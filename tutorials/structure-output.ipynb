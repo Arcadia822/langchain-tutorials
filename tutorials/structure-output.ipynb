{
 "cells": [
  {
   "cell_type": "code",
   "execution_count": 9,
   "metadata": {},
   "outputs": [],
   "source": [
    "from langchain.chat_models import AzureChatOpenAI\n",
    "\n",
    "from utils import init_openai, init_openai_deploy\n",
    "\n",
    "init_openai()\n",
    "model, deployment_id = init_openai_deploy()\n",
    "\n",
    "llm = AzureChatOpenAI(\n",
    "    model = model,\n",
    "    deployment_name=deployment_id,\n",
    ")"
   ]
  },
  {
   "cell_type": "code",
   "execution_count": 10,
   "metadata": {},
   "outputs": [
    {
     "name": "stdout",
     "output_type": "stream",
     "text": [
      "好的，以下是三个虚构的科幻小说角色及其细节：\n",
      "\n",
      "1. 女王克里斯塔（Krista）\n",
      "种族：X-Novo 人（外星人）\n",
      "年龄：300 岁\n",
      "外貌：宽大的蓝色眼睛、长达 2 米的身高、头部满是细长的触角\n",
      "性别：女性\n",
      "\n",
      "女王克里斯塔是 X-Novo 星球上最有权势的领导之一，她拥有强大的能力，可以影响他人的思想并改变他们的行为。尽管她极富智慧和战略，但她的外表并不被其他物种看重，这导致她时常感到孤独和受挫。\n",
      "\n",
      "2. 莫莱（Morley）\n",
      "种族：人类\n",
      "年龄：27 岁\n",
      "外貌：金色的卷发、深莹的棕色眼睛、紫色的全身装备\n",
      "性别：男性\n",
      "\n",
      "莫莱是地球联盟的一名特工，他具备出色的射击和格斗技能，甚至可以利用脑波对他人进行干扰。在一个危机四伏的任务中，莫莱与一名来自另外星球的女性坠入爱河，但却在该任务中失去了她，这让他备受痛苦。\n",
      "\n",
      "3. 赫布（Herb）\n",
      "种族：机器人\n",
      "年龄：“出厂时间” 2 年\n",
      "外貌：高大笨重、全身闪耀金属光泽、装载着高级 AI 关键字\n",
      "性别：中性\n",
      "\n",
      "赫布是一名为太空站服务的机器人，它可以执行各种任务，包括维修和清理、安全检查等。在一次事故中，赫布的控制程序出现故障，导致他开始对所有生命体产生厌恶情绪。他随后开始制定了一个计划，试图猎杀每个进入太空站的人类。\n"
     ]
    }
   ],
   "source": [
    "result = llm.call_as_llm(\"你好，ChatGPT！请帮我虚构3个科幻小说中的角色，提供他们的姓名、种族、年龄、外貌、性别\")\n",
    "\n",
    "print(result)"
   ]
  },
  {
   "cell_type": "code",
   "execution_count": 11,
   "metadata": {},
   "outputs": [
    {
     "data": {
      "text/plain": [
       "{'title': 'Character',\n",
       " 'type': 'object',\n",
       " 'properties': {'name': {'title': 'Name',\n",
       "   'description': '姓名',\n",
       "   'type': 'string'},\n",
       "  'species': {'title': 'Species', 'description': '种族', 'type': 'string'},\n",
       "  'age': {'title': 'Age', 'description': '年龄', 'type': 'integer'},\n",
       "  'appearance': {'title': 'Appearance', 'description': '外貌', 'type': 'string'},\n",
       "  'gender': {'description': '性别,枚举',\n",
       "   'allOf': [{'$ref': '#/definitions/Gender'}]}},\n",
       " 'required': ['name', 'species', 'age', 'appearance', 'gender'],\n",
       " 'definitions': {'Gender': {'title': 'Gender',\n",
       "   'description': 'An enumeration.',\n",
       "   'enum': ['M', 'F', 'O', '']}}}"
      ]
     },
     "execution_count": 11,
     "metadata": {},
     "output_type": "execute_result"
    }
   ],
   "source": [
    "from pydantic import BaseModel, Field\n",
    "from enum import Enum\n",
    "\n",
    "class Gender(Enum):\n",
    "    Male = \"M\"\n",
    "    Female = \"F\"\n",
    "    OTHER = \"O\"\n",
    "    NA = \"\"\n",
    "\n",
    "class Character(BaseModel):\n",
    "    name: str = Field(description=\"姓名\")\n",
    "    species: str = Field(description=\"种族\")\n",
    "    age: int = Field(description=\"年龄\")\n",
    "    appearance: str = Field(description=\"外貌\")\n",
    "    gender: Gender = Field(description=\"性别,枚举\")\n",
    "\n",
    "Character.schema()"
   ]
  },
  {
   "cell_type": "code",
   "execution_count": 12,
   "metadata": {},
   "outputs": [
    {
     "name": "stdout",
     "output_type": "stream",
     "text": [
      "The output should be formatted as a JSON instance that conforms to the JSON schema below.\n",
      "\n",
      "As an example, for the schema {\"properties\": {\"foo\": {\"title\": \"Foo\", \"description\": \"a list of strings\", \"type\": \"array\", \"items\": {\"type\": \"string\"}}}, \"required\": [\"foo\"]}}\n",
      "the object {\"foo\": [\"bar\", \"baz\"]} is a well-formatted instance of the schema. The object {\"properties\": {\"foo\": [\"bar\", \"baz\"]}} is not well-formatted.\n",
      "\n",
      "Here is the output schema:\n",
      "```\n",
      "{\"properties\": {\"name\": {\"title\": \"Name\", \"description\": \"\\u59d3\\u540d\", \"type\": \"string\"}, \"species\": {\"title\": \"Species\", \"description\": \"\\u79cd\\u65cf\", \"type\": \"string\"}, \"age\": {\"title\": \"Age\", \"description\": \"\\u5e74\\u9f84\", \"type\": \"integer\"}, \"appearance\": {\"title\": \"Appearance\", \"description\": \"\\u5916\\u8c8c\", \"type\": \"string\"}, \"gender\": {\"description\": \"\\u6027\\u522b,\\u679a\\u4e3e\", \"allOf\": [{\"$ref\": \"#/definitions/Gender\"}]}}, \"required\": [\"name\", \"species\", \"age\", \"appearance\", \"gender\"], \"definitions\": {\"Gender\": {\"title\": \"Gender\", \"description\": \"An enumeration.\", \"enum\": [\"M\", \"F\", \"O\", \"\"]}}}\n",
      "```\n"
     ]
    }
   ],
   "source": [
    "from langchain.output_parsers import PydanticOutputParser\n",
    "\n",
    "parser = PydanticOutputParser(pydantic_object=Character)\n",
    "print(parser.get_format_instructions())\n"
   ]
  },
  {
   "cell_type": "code",
   "execution_count": 13,
   "metadata": {},
   "outputs": [
    {
     "name": "stdout",
     "output_type": "stream",
     "text": [
      "{\"name\": \"Astra Lux\", \"species\": \"Transcendent\", \"age\": 1245, \"appearance\": \"A tall, slender figure made up entirely of shimmering, multicolored lights. Astra's 'body' is fluid and moves unpredictably as if it were almost alive.\", \"gender\": \"O\"}\n"
     ]
    }
   ],
   "source": [
    "from langchain import LLMChain, PromptTemplate\n",
    "\n",
    "\n",
    "template = \"\"\"\n",
    "你好，ChatGPT！请帮我虚构一个科幻小说中的角色，提供他们的姓名、种族、年龄、外貌、性别\n",
    "\n",
    "{format_instructions}\n",
    "\"\"\"\n",
    "\n",
    "prompt = PromptTemplate(\n",
    "    template=template,\n",
    "    input_variables=[],\n",
    "    partial_variables={\"format_instructions\": parser.get_format_instructions()},\n",
    ")\n",
    "\n",
    "chain = LLMChain(llm=llm, prompt=prompt)\n",
    "\n",
    "result = chain({})\n",
    "\n",
    "print(result[\"text\"])"
   ]
  },
  {
   "cell_type": "code",
   "execution_count": 14,
   "metadata": {},
   "outputs": [
    {
     "name": "stdout",
     "output_type": "stream",
     "text": [
      "{\n",
      "  \"name\": \"张琳\",\n",
      "  \"species\": \"人类\",\n",
      "  \"age\": 32,\n",
      "  \"appearance\": \"黑色长卷发, 棕色眼睛, 身材匀称, 皮肤略带古铜色\",\n",
      "  \"gender\": \"F\"\n",
      "}\n"
     ]
    }
   ],
   "source": [
    "template = \"\"\"\n",
    "你好，ChatGPT！请帮我虚构一个科幻小说中的角色，提供他们的姓名、种族、年龄、外貌、性别\n",
    "\n",
    "{format_instructions}\n",
    "请注意，角色的描述需要是中文的\n",
    "\"\"\"\n",
    "\n",
    "prompt = PromptTemplate(\n",
    "    template=template,\n",
    "    input_variables=[],\n",
    "    partial_variables={\"format_instructions\": parser.get_format_instructions()},\n",
    ")\n",
    "\n",
    "chain = LLMChain(llm=llm, prompt=prompt)\n",
    "\n",
    "result = chain({})\n",
    "\n",
    "print(result[\"text\"])"
   ]
  },
  {
   "cell_type": "code",
   "execution_count": 15,
   "metadata": {},
   "outputs": [
    {
     "data": {
      "text/markdown": [
       "\n",
       "|name|species|age|gender|appearance|\n",
       "|---|---|---|---|---|\n",
       "|**张琳**|人类|32|Gender.Female|黑色长卷发, 棕色眼睛, 身材匀称, 皮肤略带古铜色|\n"
      ],
      "text/plain": [
       "<IPython.core.display.Markdown object>"
      ]
     },
     "execution_count": 15,
     "metadata": {},
     "output_type": "execute_result"
    }
   ],
   "source": [
    "from IPython.display import Markdown as md\n",
    "\n",
    "character:Character = parser.parse(result[\"text\"])\n",
    "\n",
    "md(f\"\"\"\n",
    "|name|species|age|gender|appearance|\n",
    "|---|---|---|---|---|\n",
    "|**{character.name}**|{character.species}|{character.age}|{character.gender}|{character.appearance}|\n",
    "\"\"\")"
   ]
  },
  {
   "cell_type": "code",
   "execution_count": 16,
   "metadata": {},
   "outputs": [],
   "source": [
    "misformat1 = \"\"\"{\n",
    "    \"name\": \"田所浩二\",\n",
    "    \"species\": \"野兽先辈\",\n",
    "    \"年龄\": \"35岁\",\n",
    "    \"外貌\": \"儒雅随和\",\n",
    "    \"性别\": \"哼哼哼，啊啊啊啊啊\"\n",
    "}\"\"\"\n",
    "\n",
    "misformat2 = \"\"\"\n",
    "田所先生，24岁，是学生，外貌俊朗\n",
    "\"\"\"\n"
   ]
  },
  {
   "cell_type": "code",
   "execution_count": 17,
   "metadata": {},
   "outputs": [
    {
     "data": {
      "text/plain": [
       "'The output should be formatted as a JSON instance that conforms to the JSON schema below.\\n\\nAs an example, for the schema {\"properties\": {\"foo\": {\"title\": \"Foo\", \"description\": \"a list of strings\", \"type\": \"array\", \"items\": {\"type\": \"string\"}}}, \"required\": [\"foo\"]}}\\nthe object {\"foo\": [\"bar\", \"baz\"]} is a well-formatted instance of the schema. The object {\"properties\": {\"foo\": [\"bar\", \"baz\"]}} is not well-formatted.\\n\\nHere is the output schema:\\n```\\n{\"properties\": {\"name\": {\"title\": \"Name\", \"description\": \"\\\\u59d3\\\\u540d\", \"type\": \"string\"}, \"species\": {\"title\": \"Species\", \"description\": \"\\\\u79cd\\\\u65cf\", \"type\": \"string\"}, \"age\": {\"title\": \"Age\", \"description\": \"\\\\u5e74\\\\u9f84\", \"type\": \"integer\"}, \"appearance\": {\"title\": \"Appearance\", \"description\": \"\\\\u5916\\\\u8c8c\", \"type\": \"string\"}, \"gender\": {\"description\": \"\\\\u6027\\\\u522b,\\\\u679a\\\\u4e3e\", \"allOf\": [{\"$ref\": \"#/definitions/Gender\"}]}}, \"required\": [\"name\", \"species\", \"age\", \"appearance\", \"gender\"], \"definitions\": {\"Gender\": {\"title\": \"Gender\", \"description\": \"An enumeration.\", \"enum\": [\"M\", \"F\", \"O\", \"\"]}}}\\n```'"
      ]
     },
     "execution_count": 17,
     "metadata": {},
     "output_type": "execute_result"
    }
   ],
   "source": [
    "from langchain.output_parsers import OutputFixingParser\n",
    "\n",
    "fixing_parser = OutputFixingParser.from_llm(parser=parser, llm=llm)\n",
    "fixing_parser.get_format_instructions()\n",
    "\n"
   ]
  },
  {
   "cell_type": "code",
   "execution_count": 18,
   "metadata": {},
   "outputs": [
    {
     "name": "stderr",
     "output_type": "stream",
     "text": [
      "Retrying langchain.chat_models.openai.ChatOpenAI.completion_with_retry.<locals>._completion_with_retry in 4.0 seconds as it raised Timeout: Request timed out: HTTPSConnectionPool(host='codedog.openai.azure.com', port=443): Read timed out. (read timeout=60).\n"
     ]
    },
    {
     "name": "stdout",
     "output_type": "stream",
     "text": [
      "{\n",
      "    \"name\": \"田所浩二\",\n",
      "    \"species\": \"野兽先辈\",\n",
      "    \"age\": 35,\n",
      "    \"appearance\": \"儒雅随和\",\n",
      "    \"gender\": \"M\"\n",
      "}\n"
     ]
    }
   ],
   "source": [
    "character = fixing_parser.parse(misformat1)\n",
    "\n",
    "print(character.json(indent=4,ensure_ascii=False))"
   ]
  },
  {
   "cell_type": "code",
   "execution_count": null,
   "metadata": {},
   "outputs": [
    {
     "name": "stdout",
     "output_type": "stream",
     "text": [
      "{\n",
      "    \"name\": \"田所先生\",\n",
      "    \"species\": \"人类\",\n",
      "    \"age\": 24,\n",
      "    \"appearance\": \"俊朗\",\n",
      "    \"gender\": \"\"\n",
      "}\n"
     ]
    }
   ],
   "source": [
    "character = fixing_parser.parse(misformat2)\n",
    "\n",
    "print(character.json(indent=4,ensure_ascii=False))"
   ]
  }
 ],
 "metadata": {
  "kernelspec": {
   "display_name": "ai",
   "language": "python",
   "name": "python3"
  },
  "language_info": {
   "codemirror_mode": {
    "name": "ipython",
    "version": 3
   },
   "file_extension": ".py",
   "mimetype": "text/x-python",
   "name": "python",
   "nbconvert_exporter": "python",
   "pygments_lexer": "ipython3",
   "version": "3.10.6"
  },
  "orig_nbformat": 4
 },
 "nbformat": 4,
 "nbformat_minor": 2
}
